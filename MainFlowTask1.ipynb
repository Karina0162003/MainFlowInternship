{
  "nbformat": 4,
  "nbformat_minor": 0,
  "metadata": {
    "colab": {
      "provenance": [],
      "authorship_tag": "ABX9TyOf5QFPuQCtPXXoVZW+yfNG",
      "include_colab_link": true
    },
    "kernelspec": {
      "name": "python3",
      "display_name": "Python 3"
    },
    "language_info": {
      "name": "python"
    }
  },
  "cells": [
    {
      "cell_type": "markdown",
      "metadata": {
        "id": "view-in-github",
        "colab_type": "text"
      },
      "source": [
        "<a href=\"https://colab.research.google.com/github/Karina0162003/MainFlowInternship/blob/main/MainFlowTask1.ipynb\" target=\"_parent\"><img src=\"https://colab.research.google.com/assets/colab-badge.svg\" alt=\"Open In Colab\"/></a>"
      ]
    },
    {
      "cell_type": "markdown",
      "source": [
        "# **TASK :- 1**"
      ],
      "metadata": {
        "id": "c_duE3JV_4wc"
      }
    },
    {
      "cell_type": "markdown",
      "source": [
        "# **List**"
      ],
      "metadata": {
        "id": "BzbTJqf2_TU-"
      }
    },
    {
      "cell_type": "markdown",
      "source": [
        "\n",
        "### Description\n",
        "\n",
        "    -Create\n",
        "    -Remove  \n",
        "    -Modify\n",
        "\n"
      ],
      "metadata": {
        "id": "34zlPaFL_dMT"
      }
    },
    {
      "cell_type": "code",
      "execution_count": null,
      "metadata": {
        "colab": {
          "base_uri": "https://localhost:8080/"
        },
        "id": "5W-BS-Am6tdQ",
        "outputId": "70035ba0-746f-46f7-ee95-7a56803e5757"
      },
      "outputs": [
        {
          "name": "stdout",
          "output_type": "stream",
          "text": [
            "Enter the number:-1\n",
            "Enter the number:-2\n",
            "Enter the number:-3\n",
            "Enter the number:-4\n",
            "Enter the number:-5\n"
          ]
        }
      ],
      "source": [
        "#create the list\n",
        "lst = []\n",
        "\n",
        "for i in range(5):\n",
        "  lst.append(int(input(\"Enter the number:-\")))\n",
        "\n"
      ]
    },
    {
      "cell_type": "code",
      "source": [
        "for i in lst:  #printing the lst\n",
        "  print(i)"
      ],
      "metadata": {
        "colab": {
          "base_uri": "https://localhost:8080/"
        },
        "id": "NHD6TUwD85Lc",
        "outputId": "3ff1a9eb-baf1-4258-eb83-214ec202f2ca"
      },
      "execution_count": null,
      "outputs": [
        {
          "output_type": "stream",
          "name": "stdout",
          "text": [
            "1\n",
            "2\n",
            "3\n",
            "4\n",
            "5\n"
          ]
        }
      ]
    },
    {
      "cell_type": "code",
      "source": [
        "lst.remove(lst[3]) #pass the index which want to remive"
      ],
      "metadata": {
        "id": "eO3IQTJH9YFc"
      },
      "execution_count": null,
      "outputs": []
    },
    {
      "cell_type": "code",
      "source": [
        "lst"
      ],
      "metadata": {
        "colab": {
          "base_uri": "https://localhost:8080/"
        },
        "id": "yZaQ94eR9gU4",
        "outputId": "f819f98f-8f65-46dd-b928-bdef1b7668cd"
      },
      "execution_count": null,
      "outputs": [
        {
          "output_type": "execute_result",
          "data": {
            "text/plain": [
              "[1, 2, 3, 5]"
            ]
          },
          "metadata": {},
          "execution_count": 20
        }
      ]
    },
    {
      "cell_type": "code",
      "source": [
        "lst.pop(1)\n",
        "lst #pass the value which want to remove"
      ],
      "metadata": {
        "colab": {
          "base_uri": "https://localhost:8080/"
        },
        "id": "EqiBtBLv92SL",
        "outputId": "d327d140-63ee-4517-b16e-435f5280da5a"
      },
      "execution_count": null,
      "outputs": [
        {
          "output_type": "execute_result",
          "data": {
            "text/plain": [
              "[1, 3, 5]"
            ]
          },
          "metadata": {},
          "execution_count": 21
        }
      ]
    },
    {
      "cell_type": "code",
      "source": [
        "lst[2] = 4 #modifiy the lst\n",
        "lst"
      ],
      "metadata": {
        "colab": {
          "base_uri": "https://localhost:8080/"
        },
        "id": "6Oy25mMq9iTl",
        "outputId": "e8f497a0-bb03-40d7-8f10-4c9b8eefe93f"
      },
      "execution_count": null,
      "outputs": [
        {
          "output_type": "execute_result",
          "data": {
            "text/plain": [
              "[1, 3, 4]"
            ]
          },
          "metadata": {},
          "execution_count": 22
        }
      ]
    },
    {
      "cell_type": "code",
      "source": [
        "idx = int(input(\"Enter the index number:-\"))  #List Modifiy for User input\n",
        "newVal = int(input(\"Enter the new value\"))\n",
        "lst[idx] = newVal\n",
        "lst"
      ],
      "metadata": {
        "colab": {
          "base_uri": "https://localhost:8080/"
        },
        "id": "V0iXk6_q-V-s",
        "outputId": "dd3e4db3-683b-404b-f98b-d6bb5913f3b1"
      },
      "execution_count": null,
      "outputs": [
        {
          "name": "stdout",
          "output_type": "stream",
          "text": [
            "Enter the index number:-2\n",
            "Enter the new value3\n"
          ]
        },
        {
          "output_type": "execute_result",
          "data": {
            "text/plain": [
              "[1, 3, 3]"
            ]
          },
          "metadata": {},
          "execution_count": 25
        }
      ]
    },
    {
      "cell_type": "markdown",
      "source": [
        "# **Dictionaries**"
      ],
      "metadata": {
        "id": "oSOYIah8AEUe"
      }
    },
    {
      "cell_type": "markdown",
      "source": [
        "\n",
        "### Description\n",
        "\n",
        "    -Create\n",
        "    -Remove  \n",
        "    -Modify\n",
        "\n"
      ],
      "metadata": {
        "id": "UJ9wrzWiANTI"
      }
    },
    {
      "cell_type": "code",
      "source": [
        "dict = {}\n",
        "\n",
        "for num in range(5):\n",
        "  key = input(\"Enter the key:-\")\n",
        "  value = input(\"Enter the value:-\")\n",
        "  dict[key] = value\n",
        "\n",
        "print(\"Dictionaries:-\", dict)"
      ],
      "metadata": {
        "colab": {
          "base_uri": "https://localhost:8080/"
        },
        "id": "2Ili6Uky-Zwt",
        "outputId": "d018edff-8fa1-4cd7-9a7e-32940eb04f74"
      },
      "execution_count": null,
      "outputs": [
        {
          "output_type": "stream",
          "name": "stdout",
          "text": [
            "Enter the key:-2\n",
            "Enter the value:-me\n",
            "Enter the key:-3\n",
            "Enter the value:-you\n",
            "Enter the key:-1\n",
            "Enter the value:-why\n",
            "Enter the key:-4\n",
            "Enter the value:-me2\n",
            "Enter the key:-5\n",
            "Enter the value:-you2\n",
            "Dictionaries:- {'2': 'me', '3': 'you', '1': 'why', '4': 'me2', '5': 'you2'}\n"
          ]
        }
      ]
    },
    {
      "cell_type": "code",
      "source": [
        "removeEle = input(\"Enter the key:-\")\n",
        "\n",
        "del dict[removeEle]\n",
        "\n",
        "print(\"Dictionaries:-\",dict)"
      ],
      "metadata": {
        "colab": {
          "base_uri": "https://localhost:8080/"
        },
        "id": "ut1gLHic_HOA",
        "outputId": "8b017a87-9752-434c-ce6b-bdea3acd9610"
      },
      "execution_count": null,
      "outputs": [
        {
          "output_type": "stream",
          "name": "stdout",
          "text": [
            "Enter the key:-1\n",
            "Dictionaries:- {'4': 'me2', '5': 'you2'}\n"
          ]
        }
      ]
    },
    {
      "cell_type": "code",
      "source": [
        "modifyEle = input(\"Enter the key:-\")\n",
        "newValue = input(\"Enter the new value:-\")\n",
        "\n",
        "dict[modifyEle] = newValue\n",
        "print(\"Dictionaries:-\" , dict)\n"
      ],
      "metadata": {
        "colab": {
          "base_uri": "https://localhost:8080/"
        },
        "id": "CB52M1UoCUsw",
        "outputId": "1f50b1b4-3c54-49bc-ffb8-85630819d8d1"
      },
      "execution_count": null,
      "outputs": [
        {
          "output_type": "stream",
          "name": "stdout",
          "text": [
            "Enter the key:-3\n",
            "Enter the new value:-me\n",
            "Dictionaries:- {'4': 3, '5': 'you2', '2': 3, '3': 'me'}\n"
          ]
        }
      ]
    },
    {
      "cell_type": "markdown",
      "source": [
        "# **SET**"
      ],
      "metadata": {
        "id": "T3M4XCOeLiPi"
      }
    },
    {
      "cell_type": "markdown",
      "source": [
        "\n",
        "### Description\n",
        "\n",
        "    -Create\n",
        "    -Remove  \n",
        "    -Modify\n",
        "\n"
      ],
      "metadata": {
        "id": "zFKMjK6xLqiG"
      }
    },
    {
      "cell_type": "code",
      "source": [
        "sets = set()\n",
        "\n",
        "for numm in range(5):\n",
        "  sets.add(int(input(\"Enter the number:-\")))\n",
        "\n",
        "print(sets)"
      ],
      "metadata": {
        "colab": {
          "base_uri": "https://localhost:8080/"
        },
        "id": "erj21LOPDW7X",
        "outputId": "ef4dcd54-b26a-4bbf-a2fe-59c650e37772"
      },
      "execution_count": null,
      "outputs": [
        {
          "output_type": "stream",
          "name": "stdout",
          "text": [
            "Enter the number:-1\n",
            "Enter the number:-2\n",
            "Enter the number:-3\n",
            "Enter the number:-4\n",
            "Enter the number:-5\n",
            "{1, 2, 3, 4, 5}\n"
          ]
        }
      ]
    },
    {
      "cell_type": "code",
      "source": [
        "sets.remove(3)\n",
        "sets"
      ],
      "metadata": {
        "colab": {
          "base_uri": "https://localhost:8080/"
        },
        "id": "0vGIRHM8MCX-",
        "outputId": "513bc39d-456d-4864-86c6-ecdbcdc4641b"
      },
      "execution_count": null,
      "outputs": [
        {
          "output_type": "execute_result",
          "data": {
            "text/plain": [
              "{1, 2, 4, 5}"
            ]
          },
          "metadata": {},
          "execution_count": 41
        }
      ]
    },
    {
      "cell_type": "code",
      "source": [
        "oEle = input(\"Enter the old element:-\")\n",
        "nEle = input(\"Enter the new element:-\")\n",
        "\n",
        "sets.discard(oEle)\n",
        "sets.add(nEle)\n",
        "\n",
        "print(\"Ssets:-\",sets)"
      ],
      "metadata": {
        "colab": {
          "base_uri": "https://localhost:8080/"
        },
        "id": "63NMbduPMevp",
        "outputId": "399b095d-d38d-4c90-a21a-f27f068aba75"
      },
      "execution_count": null,
      "outputs": [
        {
          "output_type": "stream",
          "name": "stdout",
          "text": [
            "Enter the old element:-2\n",
            "Enter the new element:-1\n",
            "Ssets:- {1, 2, 4, 5, '1'}\n"
          ]
        }
      ]
    },
    {
      "cell_type": "code",
      "source": [],
      "metadata": {
        "id": "FLad3Zs9NQAI"
      },
      "execution_count": null,
      "outputs": []
    }
  ]
}